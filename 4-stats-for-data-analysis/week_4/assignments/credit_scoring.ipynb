{
 "cells": [
  {
   "cell_type": "code",
   "execution_count": 86,
   "metadata": {},
   "outputs": [],
   "source": [
    "import pandas as pd\n",
    "import numpy as np\n",
    "import matplotlib.pyplot as plt"
   ]
  },
  {
   "cell_type": "code",
   "execution_count": 87,
   "metadata": {},
   "outputs": [
    {
     "name": "stdout",
     "output_type": "stream",
     "text": [
      "Shape of dataset: (30000, 25)\n"
     ]
    },
    {
     "data": {
      "text/html": [
       "<div>\n",
       "<style scoped>\n",
       "    .dataframe tbody tr th:only-of-type {\n",
       "        vertical-align: middle;\n",
       "    }\n",
       "\n",
       "    .dataframe tbody tr th {\n",
       "        vertical-align: top;\n",
       "    }\n",
       "\n",
       "    .dataframe thead th {\n",
       "        text-align: right;\n",
       "    }\n",
       "</style>\n",
       "<table border=\"1\" class=\"dataframe\">\n",
       "  <thead>\n",
       "    <tr style=\"text-align: right;\">\n",
       "      <th></th>\n",
       "      <th>ID</th>\n",
       "      <th>LIMIT_BAL</th>\n",
       "      <th>SEX</th>\n",
       "      <th>EDUCATION</th>\n",
       "      <th>MARRIAGE</th>\n",
       "      <th>AGE</th>\n",
       "      <th>PAY_0</th>\n",
       "      <th>PAY_2</th>\n",
       "      <th>PAY_3</th>\n",
       "      <th>PAY_4</th>\n",
       "      <th>...</th>\n",
       "      <th>BILL_AMT4</th>\n",
       "      <th>BILL_AMT5</th>\n",
       "      <th>BILL_AMT6</th>\n",
       "      <th>PAY_AMT1</th>\n",
       "      <th>PAY_AMT2</th>\n",
       "      <th>PAY_AMT3</th>\n",
       "      <th>PAY_AMT4</th>\n",
       "      <th>PAY_AMT5</th>\n",
       "      <th>PAY_AMT6</th>\n",
       "      <th>default</th>\n",
       "    </tr>\n",
       "  </thead>\n",
       "  <tbody>\n",
       "    <tr>\n",
       "      <th>0</th>\n",
       "      <td>1</td>\n",
       "      <td>20000</td>\n",
       "      <td>2</td>\n",
       "      <td>2</td>\n",
       "      <td>1</td>\n",
       "      <td>24</td>\n",
       "      <td>2</td>\n",
       "      <td>2</td>\n",
       "      <td>0</td>\n",
       "      <td>0</td>\n",
       "      <td>...</td>\n",
       "      <td>0</td>\n",
       "      <td>0</td>\n",
       "      <td>0</td>\n",
       "      <td>0</td>\n",
       "      <td>689</td>\n",
       "      <td>0</td>\n",
       "      <td>0</td>\n",
       "      <td>0</td>\n",
       "      <td>0</td>\n",
       "      <td>1</td>\n",
       "    </tr>\n",
       "    <tr>\n",
       "      <th>1</th>\n",
       "      <td>2</td>\n",
       "      <td>120000</td>\n",
       "      <td>2</td>\n",
       "      <td>2</td>\n",
       "      <td>2</td>\n",
       "      <td>26</td>\n",
       "      <td>0</td>\n",
       "      <td>2</td>\n",
       "      <td>0</td>\n",
       "      <td>0</td>\n",
       "      <td>...</td>\n",
       "      <td>3272</td>\n",
       "      <td>3455</td>\n",
       "      <td>3261</td>\n",
       "      <td>0</td>\n",
       "      <td>1000</td>\n",
       "      <td>1000</td>\n",
       "      <td>1000</td>\n",
       "      <td>0</td>\n",
       "      <td>2000</td>\n",
       "      <td>1</td>\n",
       "    </tr>\n",
       "    <tr>\n",
       "      <th>2</th>\n",
       "      <td>3</td>\n",
       "      <td>90000</td>\n",
       "      <td>2</td>\n",
       "      <td>2</td>\n",
       "      <td>2</td>\n",
       "      <td>34</td>\n",
       "      <td>0</td>\n",
       "      <td>0</td>\n",
       "      <td>0</td>\n",
       "      <td>0</td>\n",
       "      <td>...</td>\n",
       "      <td>14331</td>\n",
       "      <td>14948</td>\n",
       "      <td>15549</td>\n",
       "      <td>1518</td>\n",
       "      <td>1500</td>\n",
       "      <td>1000</td>\n",
       "      <td>1000</td>\n",
       "      <td>1000</td>\n",
       "      <td>5000</td>\n",
       "      <td>0</td>\n",
       "    </tr>\n",
       "    <tr>\n",
       "      <th>3</th>\n",
       "      <td>4</td>\n",
       "      <td>50000</td>\n",
       "      <td>2</td>\n",
       "      <td>2</td>\n",
       "      <td>1</td>\n",
       "      <td>37</td>\n",
       "      <td>0</td>\n",
       "      <td>0</td>\n",
       "      <td>0</td>\n",
       "      <td>0</td>\n",
       "      <td>...</td>\n",
       "      <td>28314</td>\n",
       "      <td>28959</td>\n",
       "      <td>29547</td>\n",
       "      <td>2000</td>\n",
       "      <td>2019</td>\n",
       "      <td>1200</td>\n",
       "      <td>1100</td>\n",
       "      <td>1069</td>\n",
       "      <td>1000</td>\n",
       "      <td>0</td>\n",
       "    </tr>\n",
       "    <tr>\n",
       "      <th>4</th>\n",
       "      <td>5</td>\n",
       "      <td>50000</td>\n",
       "      <td>1</td>\n",
       "      <td>2</td>\n",
       "      <td>1</td>\n",
       "      <td>57</td>\n",
       "      <td>0</td>\n",
       "      <td>0</td>\n",
       "      <td>0</td>\n",
       "      <td>0</td>\n",
       "      <td>...</td>\n",
       "      <td>20940</td>\n",
       "      <td>19146</td>\n",
       "      <td>19131</td>\n",
       "      <td>2000</td>\n",
       "      <td>36681</td>\n",
       "      <td>10000</td>\n",
       "      <td>9000</td>\n",
       "      <td>689</td>\n",
       "      <td>679</td>\n",
       "      <td>0</td>\n",
       "    </tr>\n",
       "  </tbody>\n",
       "</table>\n",
       "<p>5 rows × 25 columns</p>\n",
       "</div>"
      ],
      "text/plain": [
       "   ID  LIMIT_BAL  SEX  EDUCATION  MARRIAGE  AGE  PAY_0  PAY_2  PAY_3  PAY_4  \\\n",
       "0   1      20000    2          2         1   24      2      2      0      0   \n",
       "1   2     120000    2          2         2   26      0      2      0      0   \n",
       "2   3      90000    2          2         2   34      0      0      0      0   \n",
       "3   4      50000    2          2         1   37      0      0      0      0   \n",
       "4   5      50000    1          2         1   57      0      0      0      0   \n",
       "\n",
       "   ...  BILL_AMT4  BILL_AMT5  BILL_AMT6  PAY_AMT1  PAY_AMT2  PAY_AMT3  \\\n",
       "0  ...          0          0          0         0       689         0   \n",
       "1  ...       3272       3455       3261         0      1000      1000   \n",
       "2  ...      14331      14948      15549      1518      1500      1000   \n",
       "3  ...      28314      28959      29547      2000      2019      1200   \n",
       "4  ...      20940      19146      19131      2000     36681     10000   \n",
       "\n",
       "   PAY_AMT4  PAY_AMT5  PAY_AMT6  default  \n",
       "0         0         0         0        1  \n",
       "1      1000         0      2000        1  \n",
       "2      1000      1000      5000        0  \n",
       "3      1100      1069      1000        0  \n",
       "4      9000       689       679        0  \n",
       "\n",
       "[5 rows x 25 columns]"
      ]
     },
     "execution_count": 87,
     "metadata": {},
     "output_type": "execute_result"
    }
   ],
   "source": [
    "data = pd.read_csv('credit_card_default_analysis.csv')\n",
    "print(f\"Shape of dataset: {data.shape}\")\n",
    "data.head()"
   ]
  },
  {
   "cell_type": "markdown",
   "metadata": {},
   "source": [
    "#### 1.Размер кредитного лимита (LIMIT_BAL)"
   ]
  },
  {
   "cell_type": "code",
   "execution_count": 89,
   "metadata": {},
   "outputs": [
    {
     "data": {
      "image/png": "[encoded data removed]",
      "text/plain": [
       "<Figure size 1080x504 with 2 Axes>"
      ]
     },
     "metadata": {
      "needs_background": "light"
     },
     "output_type": "display_data"
    }
   ],
   "source": [
    "#histogram of LIMIT_BAL distribution\n",
    "_ = plt.figure(1, figsize=(15,7))\n",
    "\n",
    "_ = plt.subplot(121)\n",
    "_ = plt.title('Histogram of LIMIT_BALL')\n",
    "_ = plt.hist(data['LIMIT_BAL'], edgecolor='k')\n",
    "\n",
    "_ = plt.subplot(122)\n",
    "_ = plt.title('Histogram of LIMIT_BALL for default = 0 / 1')\n",
    "_ = plt.hist(data.LIMIT_BAL.loc[data.default == 0], edgecolor='k', label='Default = 0')\n",
    "_ = plt.hist(data.LIMIT_BAL.loc[data.default == 1], edgecolor='k', label='Default = 1')\n",
    "_ = plt.legend()"
   ]
  },
  {
   "cell_type": "code",
   "execution_count": 3,
   "metadata": {},
   "outputs": [],
   "source": [
    "limit_bal_0 = data.loc[data.default == 0].LIMIT_BAL.values\n",
    "limit_bal_1 = data.loc[data.default == 1].LIMIT_BAL.values"
   ]
  },
  {
   "cell_type": "code",
   "execution_count": 4,
   "metadata": {},
   "outputs": [
    {
     "name": "stdout",
     "output_type": "stream",
     "text": [
      "Median LIMIT_BAL for default = 0: 150000.0\n",
      "Median LIMIT_BAL for default = 1: 90000.0\n"
     ]
    }
   ],
   "source": [
    "print(f\"Median LIMIT_BAL for default = 0: {np.median(limit_bal_0)}\")\n",
    "print(f\"Median LIMIT_BAL for default = 1: {np.median(limit_bal_1)}\")"
   ]
  },
  {
   "cell_type": "markdown",
   "metadata": {},
   "source": [
    "#### Проверим гипотезу о равенстве медианных значений кредитного лимита с помощью подходящей интервальной оценки.\n",
    "H0: медианные значения равны\n",
    "\n",
    "H1: медианные значения отличаются"
   ]
  },
  {
   "cell_type": "code",
   "execution_count": 5,
   "metadata": {},
   "outputs": [],
   "source": [
    "def get_bootstrap_samples(data, n_samples):\n",
    "    indices = np.random.randint(0, len(data), (n_samples, len(data)))\n",
    "    samples = data[indices]\n",
    "    return samples"
   ]
  },
  {
   "cell_type": "code",
   "execution_count": 6,
   "metadata": {},
   "outputs": [],
   "source": [
    "def stat_intervals(stat, alpha):\n",
    "    boundaries = np.percentile(stat, [100 * alpha / 2., 100 * (1 - alpha / 2.)])\n",
    "    return boundaries"
   ]
  },
  {
   "cell_type": "code",
   "execution_count": 7,
   "metadata": {},
   "outputs": [
    {
     "name": "stdout",
     "output_type": "stream",
     "text": [
      "95% conf. int. median for LIMIT_BAL with default = 0: [150000. 150000.]\n",
      "95% conf. int. median for LIMIT_BAL with default = 1: [80000. 90000.]\n"
     ]
    }
   ],
   "source": [
    "np.random.seed(0)\n",
    "\n",
    "limit_bal_0_median_scores = list(map(np.median, get_bootstrap_samples(limit_bal_0, 1000)))\n",
    "limit_bal_1_median_scores = list(map(np.median, get_bootstrap_samples(limit_bal_1, 1000)))\n",
    "\n",
    "print(\"95% conf. int. median for LIMIT_BAL with default = 0:\",  stat_intervals(limit_bal_0_median_scores, 0.05))\n",
    "print(\"95% conf. int. median for LIMIT_BAL with default = 1:\",  stat_intervals(limit_bal_1_median_scores, 0.05))"
   ]
  },
  {
   "cell_type": "markdown",
   "metadata": {},
   "source": [
    "Как видно из интервальной оценки, медианы не совпадают. Заёмщики, которые не возвращают кредит, обычно берут меньшую сумму."
   ]
  },
  {
   "cell_type": "markdown",
   "metadata": {},
   "source": [
    "#### Проверим гипотезу о равенстве распределений с помощью одного из подходящих непараметрических критериев проверки равенства средних.\n",
    "Для проверки гипотезы подойдёт перестановочный критерий для независимых выборок.\n",
    "\n",
    "H0: распределения выборок полностью равны\n",
    "\n",
    "H1: распределения выборок отличаются на величину сдвига"
   ]
  },
  {
   "cell_type": "code",
   "execution_count": 8,
   "metadata": {},
   "outputs": [],
   "source": [
    "def permutation_t_stat_ind(sample1, sample2):\n",
    "    return np.mean(sample1) - np.mean(sample2)"
   ]
  },
  {
   "cell_type": "code",
   "execution_count": 9,
   "metadata": {},
   "outputs": [],
   "source": [
    "def get_random_combinations(n1, n2, max_combinations):\n",
    "    index = list(range(n1 + n2))\n",
    "    indices = set([tuple(index)])\n",
    "    for i in range(max_combinations - 1):\n",
    "        np.random.shuffle(index)\n",
    "        indices.add(tuple(index))\n",
    "    return [(index[:n1], index[n1:]) for index in indices]"
   ]
  },
  {
   "cell_type": "code",
   "execution_count": 10,
   "metadata": {},
   "outputs": [],
   "source": [
    "def permutation_zero_dist_ind(sample1, sample2, max_combinations = None):\n",
    "    joined_sample = np.hstack((sample1, sample2))\n",
    "    n1 = len(sample1)\n",
    "    n = len(joined_sample)\n",
    "    \n",
    "    if max_combinations:\n",
    "        indices = get_random_combinations(n1, len(sample2), max_combinations)\n",
    "    else:\n",
    "        indices = [(list(index), filter(lambda i: i not in index, range(n))) \\\n",
    "                    for index in itertools.combinations(range(n), n1)]\n",
    "    \n",
    "    distr = [joined_sample[list(i[0])].mean() - joined_sample[list(i[1])].mean() \\\n",
    "             for i in indices]\n",
    "    return distr"
   ]
  },
  {
   "cell_type": "code",
   "execution_count": 11,
   "metadata": {},
   "outputs": [],
   "source": [
    "def permutation_test(sample, mean, max_permutations = None, alternative = 'two-sided'):\n",
    "    if alternative not in ('two-sided', 'less', 'greater'):\n",
    "        raise ValueError(\"alternative not recognized\\n\"\n",
    "                         \"should be 'two-sided', 'less' or 'greater'\")\n",
    "    \n",
    "    t_stat = permutation_t_stat_ind(sample, mean)\n",
    "    \n",
    "    zero_distr = permutation_zero_dist_ind(sample, mean, max_permutations)\n",
    "    \n",
    "    if alternative == 'two-sided':\n",
    "        return sum([1. if abs(x) >= abs(t_stat) else 0. for x in zero_distr]) / len(zero_distr)\n",
    "    \n",
    "    if alternative == 'less':\n",
    "        return sum([1. if x <= t_stat else 0. for x in zero_distr]) / len(zero_distr)\n",
    "\n",
    "    if alternative == 'greater':\n",
    "        return sum([1. if x >= t_stat else 0. for x in zero_distr]) / len(zero_distr)"
   ]
  },
  {
   "cell_type": "code",
   "execution_count": 12,
   "metadata": {},
   "outputs": [
    {
     "name": "stdout",
     "output_type": "stream",
     "text": [
      "p-value: 0.001000\n"
     ]
    }
   ],
   "source": [
    "print(\"p-value: %f\" % permutation_test(limit_bal_0, limit_bal_1, max_permutations = 1000))"
   ]
  },
  {
   "cell_type": "markdown",
   "metadata": {},
   "source": [
    "P-value получается довольно маленьким и нулевая гипотеза отвергается на уровне значимости 0.05.\n",
    "\n",
    "Результат является практически значимым, потому что разница в значениях медианы LIMIT_BAL значимо большая."
   ]
  },
  {
   "cell_type": "markdown",
   "metadata": {},
   "source": [
    "#### 2. Пол (SEX): "
   ]
  },
  {
   "cell_type": "code",
   "execution_count": 32,
   "metadata": {},
   "outputs": [],
   "source": [
    "from scipy import stats\n",
    "from statsmodels.stats.proportion import proportion_confint"
   ]
  },
  {
   "cell_type": "code",
   "execution_count": 91,
   "metadata": {},
   "outputs": [
    {
     "data": {
      "image/png": "[encoded data removed]",
      "text/plain": [
       "<Figure size 1080x504 with 2 Axes>"
      ]
     },
     "metadata": {
      "needs_background": "light"
     },
     "output_type": "display_data"
    }
   ],
   "source": [
    "#histogram of SEX distribution\n",
    "_ = plt.figure(1, figsize=(15,7))\n",
    "\n",
    "_ = plt.subplot(121)\n",
    "_ = plt.title('Histogram of SEX')\n",
    "_ = plt.hist(data['SEX'], edgecolor='k')\n",
    "\n",
    "_ = plt.subplot(122)\n",
    "_ = plt.title('Histogram of SEX for default = 0 / 1')\n",
    "_ = plt.hist(data.SEX.loc[data.default == 0], edgecolor='k', label='Default = 0')\n",
    "_ = plt.hist(data.SEX.loc[data.default == 1], edgecolor='k', label='Default = 1')\n",
    "_ = plt.legend()"
   ]
  },
  {
   "cell_type": "code",
   "execution_count": 92,
   "metadata": {},
   "outputs": [],
   "source": [
    "sex_0 = data.loc[data.default == 0].SEX.values\n",
    "sex_1 = data.loc[data.default == 1].SEX.values"
   ]
  },
  {
   "cell_type": "markdown",
   "metadata": {},
   "source": [
    "#### с помощью доверительного интервала"
   ]
  },
  {
   "cell_type": "code",
   "execution_count": 40,
   "metadata": {},
   "outputs": [
    {
     "name": "stdout",
     "output_type": "stream",
     "text": [
      "Conf. int. for prop. of men in default = 0: (0.3796, 0.3921)\n",
      "Conf. int. for prop. of men in default = 1: (0.4210, 0.4449)\n"
     ]
    }
   ],
   "source": [
    "conf_int_0_lower, conf_int_0_upper = proportion_confint(np.where(sex_0 == 1)[0].shape[0], sex_0.shape[0])\n",
    "conf_int_1_lower, conf_int_1_upper = proportion_confint(np.where(sex_1 == 1)[0].shape[0], sex_1.shape[0])\n",
    "\n",
    "print(f\"Conf. int. for prop. of men in default = 0: ({conf_int_0_lower:.4f}, {conf_int_0_upper:.4f})\")\n",
    "print(f\"Conf. int. for prop. of men in default = 1: ({conf_int_1_lower:.4f}, {conf_int_1_upper:.4f})\")"
   ]
  },
  {
   "cell_type": "markdown",
   "metadata": {},
   "source": [
    "Как видно из интервальных оценок, сами интервалы не пересекаются, следовательно гендерный состав различается.\n",
    "\n",
    "Построим доверительный интервал для разности двух долей независимых выборок."
   ]
  },
  {
   "cell_type": "code",
   "execution_count": 93,
   "metadata": {},
   "outputs": [],
   "source": [
    "def proportions_confint_diff_ind(sample1, sample2, alpha = 0.05):    \n",
    "    z = stats.norm.ppf(1 - alpha / 2.)   \n",
    "    p1 = float(sum(sample1)) / len(sample1)\n",
    "    p2 = float(sum(sample2)) / len(sample2)\n",
    "    \n",
    "    left_boundary = (p1 - p2) - z * np.sqrt(p1 * (1 - p1)/ len(sample1) + p2 * (1 - p2)/ len(sample2))\n",
    "    right_boundary = (p1 - p2) + z * np.sqrt(p1 * (1 - p1)/ len(sample1) + p2 * (1 - p2)/ len(sample2))\n",
    "    \n",
    "    return (left_boundary, right_boundary)"
   ]
  },
  {
   "cell_type": "code",
   "execution_count": 94,
   "metadata": {},
   "outputs": [
    {
     "name": "stdout",
     "output_type": "stream",
     "text": [
      "Confidence interval: [-0.060548, -0.033635]\n"
     ]
    }
   ],
   "source": [
    "print(\"Confidence interval: [%f, %f]\" % proportions_confint_diff_ind(np.abs(sex_0 - 2), np.abs(sex_1 - 2)))"
   ]
  },
  {
   "cell_type": "markdown",
   "metadata": {},
   "source": [
    "#### Используем статистический Z-критерий для доли для двух независимых выборок.\n",
    "H0: гендерный состав не отличается\n",
    "\n",
    "H1: гендерный состав отличается"
   ]
  },
  {
   "cell_type": "code",
   "execution_count": 95,
   "metadata": {},
   "outputs": [],
   "source": [
    "def proportions_diff_z_stat_ind(sample1, sample2):\n",
    "    n1 = len(sample1)\n",
    "    n2 = len(sample2)\n",
    "    \n",
    "    p1 = float(sum(sample1)) / n1\n",
    "    p2 = float(sum(sample2)) / n2 \n",
    "    P = float(p1*n1 + p2*n2) / (n1 + n2)\n",
    "    \n",
    "    return (p1 - p2) / np.sqrt(P * (1 - P) * (1. / n1 + 1. / n2))"
   ]
  },
  {
   "cell_type": "code",
   "execution_count": 96,
   "metadata": {},
   "outputs": [],
   "source": [
    "def proportions_diff_z_test(z_stat, alternative = 'two-sided'):\n",
    "    if alternative not in ('two-sided', 'less', 'greater'):\n",
    "        raise ValueError(\"alternative not recognized\\n\"\n",
    "                         \"should be 'two-sided', 'less' or 'greater'\")\n",
    "    \n",
    "    if alternative == 'two-sided':\n",
    "        return 2 * (1 - stats.norm.cdf(np.abs(z_stat)))\n",
    "    \n",
    "    if alternative == 'less':\n",
    "        return stats.norm.cdf(z_stat)\n",
    "\n",
    "    if alternative == 'greater':\n",
    "        return 1 - stats.norm.cdf(z_stat)"
   ]
  },
  {
   "cell_type": "code",
   "execution_count": 97,
   "metadata": {},
   "outputs": [
    {
     "name": "stdout",
     "output_type": "stream",
     "text": [
      "p-value: 4.472866521609831e-12\n"
     ]
    }
   ],
   "source": [
    "print(f\"p-value: {proportions_diff_z_test(proportions_diff_z_stat_ind(np.abs(sex_0 - 2), np.abs(sex_1 - 2)))}\")"
   ]
  },
  {
   "cell_type": "markdown",
   "metadata": {},
   "source": [
    "Гипотеза о равенстве гендерного распределния отвергается."
   ]
  },
  {
   "cell_type": "markdown",
   "metadata": {},
   "source": [
    "#### 3. Образование (EDUCATION): "
   ]
  },
  {
   "cell_type": "code",
   "execution_count": 98,
   "metadata": {},
   "outputs": [
    {
     "data": {
      "image/png": "[encoded data removed]",
      "text/plain": [
       "<Figure size 1080x504 with 2 Axes>"
      ]
     },
     "metadata": {
      "needs_background": "light"
     },
     "output_type": "display_data"
    }
   ],
   "source": [
    "#histogram of EDUCATION distribution\n",
    "_ = plt.figure(1, figsize=(15,7))\n",
    "\n",
    "_ = plt.subplot(121)\n",
    "_ = plt.title('Histogram of EDUCATION')\n",
    "_ = plt.hist(data['EDUCATION'], edgecolor='k')\n",
    "\n",
    "_ = plt.subplot(122)\n",
    "_ = plt.title('Histogram of EDUCATION for default = 0 / 1')\n",
    "_ = plt.hist(data.EDUCATION.loc[data.default == 0], edgecolor='k', label='Default = 0')\n",
    "_ = plt.hist(data.EDUCATION.loc[data.default == 1], edgecolor='k', label='Default = 1')\n",
    "_ = plt.legend()"
   ]
  },
  {
   "cell_type": "code",
   "execution_count": 99,
   "metadata": {},
   "outputs": [],
   "source": [
    "edu = data.EDUCATION\n",
    "\n",
    "edu_0 = data.EDUCATION.loc[data.default == 0]\n",
    "edu_1 = data.EDUCATION.loc[data.default == 1]"
   ]
  },
  {
   "cell_type": "markdown",
   "metadata": {},
   "source": [
    "#### Произведём строгую проверку на соответствие данного распределения равномерному с помощью критерия согласия Пирсона хи-квадрат.\n",
    "H0: рассматривая величина имеет равномерное распределение\n",
    "\n",
    "H1: H0 не верна"
   ]
  },
  {
   "cell_type": "code",
   "execution_count": 103,
   "metadata": {},
   "outputs": [
    {
     "name": "stdout",
     "output_type": "stream",
     "text": [
      "Edu lvl 0: 14 / 0 | 14\n",
      "Edu lvl 1: 8549 / 2036 | 10585\n",
      "Edu lvl 2: 10700 / 3330 | 14030\n",
      "Edu lvl 3: 3680 / 1237 | 4917\n",
      "Edu lvl 4: 116 / 7 | 123\n",
      "Edu lvl 5: 262 / 18 | 280\n",
      "Edu lvl 6: 43 / 8 | 51\n"
     ]
    }
   ],
   "source": [
    "#sample sizes for different education levels\n",
    "\n",
    "edu_num_0 = np.array([edu_0[edu_0 == ed_val].shape[0] for ed_val in range(7)])\n",
    "edu_num_1 = np.array([edu_1[edu_1 == ed_val].shape[0] for ed_val in range(7)])\n",
    "edu_num = edu_num_0 + edu_num_1\n",
    "\n",
    "for i in range(7):\n",
    "    print(f'Edu lvl {i}: {edu_num_0[i]} / {edu_num_1[i]} | {edu_num[i]}')"
   ]
  },
  {
   "cell_type": "code",
   "execution_count": 104,
   "metadata": {},
   "outputs": [],
   "source": [
    "#proportions of credit returns\n",
    "\n",
    "edu_prop = np.empty((len(np.unique(edu_0)), 2))\n",
    "\n",
    "for i, ed_val in enumerate(np.unique(edu)):\n",
    "    edu_prop[i, 0] = ed_val\n",
    "    edu_prop[i, 1] = edu_0[edu_0 == ed_val].shape[0] / (edu_0[edu_0 == ed_val].shape[0] + edu_1[edu_1 == ed_val].shape[0])"
   ]
  },
  {
   "cell_type": "code",
   "execution_count": 105,
   "metadata": {},
   "outputs": [
    {
     "name": "stdout",
     "output_type": "stream",
     "text": [
      "Edu lvl 0: 12 / 14 | 1\n",
      "Edu lvl 1: 9134 / 8549 | -585\n",
      "Edu lvl 2: 12107 / 10700 | -1407\n",
      "Edu lvl 3: 4243 / 3680 | -563\n",
      "Edu lvl 4: 106 / 116 | 9\n",
      "Edu lvl 5: 241 / 262 | 20\n",
      "Edu lvl 6: 44 / 43 | -1\n"
     ]
    }
   ],
   "source": [
    "#expected frequencies\n",
    "\n",
    "prop_mean = edu_prop[:,1].mean()\n",
    "exp_freq = np.array([prop_mean * edu_num[i] for i in range(7)])\n",
    "\n",
    "for i in range(7):\n",
    "    print(f'Edu lvl {i}: {int(exp_freq[i])} / {edu_num_0[i]} | {int(edu_num_0[i] - exp_freq[i])}')"
   ]
  },
  {
   "cell_type": "code",
   "execution_count": 67,
   "metadata": {},
   "outputs": [
    {
     "data": {
      "text/plain": [
       "Power_divergenceResult(statistic=278.7725391716089, pvalue=3.653181595163598e-58)"
      ]
     },
     "execution_count": 67,
     "metadata": {},
     "output_type": "execute_result"
    }
   ],
   "source": [
    "#chi-square criterion\n",
    "\n",
    "stats.chisquare(edu_num_0, exp_freq, ddof = 1)"
   ]
  },
  {
   "cell_type": "markdown",
   "metadata": {},
   "source": [
    "Гипотеза о том, что величина имеет равномерное распределение отвергается с очень высокой долей вероятности.\n",
    "\n",
    "Результат имеет практическую значимость для выдачи кредита, доли возврата значимо отличаются для разных уровней образования."
   ]
  },
  {
   "cell_type": "markdown",
   "metadata": {},
   "source": [
    "#### 4. Семейное положение (MARRIAGE):"
   ]
  },
  {
   "cell_type": "code",
   "execution_count": 106,
   "metadata": {},
   "outputs": [
    {
     "data": {
      "image/png": "[encoded data removed]",
      "text/plain": [
       "<Figure size 1080x504 with 2 Axes>"
      ]
     },
     "metadata": {
      "needs_background": "light"
     },
     "output_type": "display_data"
    }
   ],
   "source": [
    "#histogram of MARRIAGE distribution\n",
    "_ = plt.figure(1, figsize=(15,7))\n",
    "\n",
    "_ = plt.subplot(121)\n",
    "_ = plt.title('Histogram of MARRIAGE')\n",
    "_ = plt.hist(data['MARRIAGE'], edgecolor='k')\n",
    "\n",
    "_ = plt.subplot(122)\n",
    "_ = plt.title('Histogram of MARRIAGE for default = 0 / 1')\n",
    "_ = plt.hist(data.MARRIAGE.loc[data.default == 0], edgecolor='k', label='Default = 0')\n",
    "_ = plt.hist(data.MARRIAGE.loc[data.default == 1], edgecolor='k', label='Default = 1')\n",
    "_ = plt.legend()"
   ]
  },
  {
   "cell_type": "code",
   "execution_count": 107,
   "metadata": {},
   "outputs": [
    {
     "data": {
      "text/plain": [
       "2    15964\n",
       "1    13659\n",
       "3      323\n",
       "0       54\n",
       "Name: MARRIAGE, dtype: int64"
      ]
     },
     "execution_count": 107,
     "metadata": {},
     "output_type": "execute_result"
    }
   ],
   "source": [
    "mar = data.MARRIAGE\n",
    "\n",
    "mar_0 = data.loc[data.default == 0].MARRIAGE\n",
    "mar_1 = data.loc[data.default == 1].MARRIAGE\n",
    "\n",
    "mar.value_counts()"
   ]
  },
  {
   "cell_type": "code",
   "execution_count": 108,
   "metadata": {},
   "outputs": [
    {
     "data": {
      "text/plain": [
       "array([[4.9000e+01, 5.0000e+00],\n",
       "       [1.0453e+04, 3.2060e+03],\n",
       "       [1.2623e+04, 3.3410e+03],\n",
       "       [2.3900e+02, 8.4000e+01]])"
      ]
     },
     "execution_count": 108,
     "metadata": {},
     "output_type": "execute_result"
    }
   ],
   "source": [
    "conf_mat = np.empty((len(mar.value_counts()), 2))\n",
    "\n",
    "for i in range(len(mar.value_counts())):\n",
    "    conf_mat[i, 0] = len(mar_0.loc[mar_0 == i])\n",
    "    conf_mat[i, 1] = len(mar_1.loc[mar_1 == i])\n",
    "    \n",
    "conf_mat"
   ]
  },
  {
   "cell_type": "markdown",
   "metadata": {},
   "source": [
    "Вычислим коэффициент V Крамера."
   ]
  },
  {
   "cell_type": "code",
   "execution_count": 109,
   "metadata": {},
   "outputs": [],
   "source": [
    "def cramers_stat(confusion_matrix):\n",
    "    chi2 = stats.chi2_contingency(confusion_matrix)[0]\n",
    "    n = confusion_matrix.sum()\n",
    "    return np.sqrt(chi2 / (n*(min(confusion_matrix.shape)-1)))"
   ]
  },
  {
   "cell_type": "code",
   "execution_count": 110,
   "metadata": {},
   "outputs": [
    {
     "name": "stdout",
     "output_type": "stream",
     "text": [
      "V Cramer stat value: 0.034478203662766466\n"
     ]
    }
   ],
   "source": [
    "print(f'V Cramer stat value: {cramers_stat(conf_mat)}')"
   ]
  },
  {
   "cell_type": "markdown",
   "metadata": {},
   "source": [
    "Коэффициент Крамера принимает значение, близкое к нулю, когда взаимосвязь отсутствует.\n",
    "\n",
    "Практическая значимость в данном результате также присутствует, т.к. исходя из этих данных нет разницы в том, с каким статусом MARRIAGE приходит человек за кредитом."
   ]
  },
  {
   "cell_type": "markdown",
   "metadata": {},
   "source": [
    "#### 5. Возраст (AGE)::"
   ]
  },
  {
   "cell_type": "code",
   "execution_count": 111,
   "metadata": {},
   "outputs": [
    {
     "data": {
      "image/png": "[encoded data removed]",
      "text/plain": [
       "<Figure size 1080x504 with 2 Axes>"
      ]
     },
     "metadata": {
      "needs_background": "light"
     },
     "output_type": "display_data"
    }
   ],
   "source": [
    "#histogram of AGE distribution\n",
    "_ = plt.figure(1, figsize=(15,7))\n",
    "\n",
    "_ = plt.subplot(121)\n",
    "_ = plt.title('Histogram of AGE')\n",
    "_ = plt.hist(data['AGE'], edgecolor='k')\n",
    "\n",
    "_ = plt.subplot(122)\n",
    "_ = plt.title('Histogram of AGE for default = 0 / 1')\n",
    "_ = plt.hist(data.AGE.loc[data.default == 0], edgecolor='k', label='Default = 0')\n",
    "_ = plt.hist(data.AGE.loc[data.default == 1], edgecolor='k', label='Default = 1')\n",
    "_ = plt.legend()"
   ]
  },
  {
   "cell_type": "code",
   "execution_count": 112,
   "metadata": {},
   "outputs": [],
   "source": [
    "age_0 = data.loc[data.default == 0].AGE.values\n",
    "age_1 = data.loc[data.default == 1].AGE.values"
   ]
  },
  {
   "cell_type": "code",
   "execution_count": 113,
   "metadata": {},
   "outputs": [
    {
     "name": "stdout",
     "output_type": "stream",
     "text": [
      "Median AGE for default = 0: 34.0\n",
      "Median AGE for default = 1: 34.0\n"
     ]
    }
   ],
   "source": [
    "print(f\"Median AGE for default = 0: {np.median(age_0)}\")\n",
    "print(f\"Median AGE for default = 1: {np.median(age_1)}\")"
   ]
  },
  {
   "cell_type": "markdown",
   "metadata": {},
   "source": [
    "#### Проверим гипотезу о равенстве медианных значений кредитного лимита с помощью подходящей интервальной оценки.\n",
    "H0: медианные значения равны\n",
    "\n",
    "H1: медианные значения отличаются"
   ]
  },
  {
   "cell_type": "code",
   "execution_count": 114,
   "metadata": {},
   "outputs": [
    {
     "name": "stdout",
     "output_type": "stream",
     "text": [
      "95% conf. int. median for LIMIT_BAL with default = 0: [34. 34.]\n",
      "95% conf. int. median for LIMIT_BAL with default = 1: [34. 35.]\n"
     ]
    }
   ],
   "source": [
    "np.random.seed(0)\n",
    "\n",
    "age_0_median_scores = list(map(np.median, get_bootstrap_samples(age_0, 1000)))\n",
    "age_1_median_scores = list(map(np.median, get_bootstrap_samples(age_1, 1000)))\n",
    "\n",
    "print(\"95% conf. int. median for LIMIT_BAL with default = 0:\",  stat_intervals(age_0_median_scores, 0.05))\n",
    "print(\"95% conf. int. median for LIMIT_BAL with default = 1:\",  stat_intervals(age_1_median_scores, 0.05))"
   ]
  },
  {
   "cell_type": "markdown",
   "metadata": {},
   "source": [
    "Как видно из интервальной оценки, интервальные оценки для медианы пересекаются."
   ]
  },
  {
   "cell_type": "code",
   "execution_count": 116,
   "metadata": {},
   "outputs": [
    {
     "name": "stdout",
     "output_type": "stream",
     "text": [
      "Difference between medians: 0.0\n"
     ]
    }
   ],
   "source": [
    "print(\"Difference between medians:\", np.median(age_0) - np.median(age_1))"
   ]
  },
  {
   "cell_type": "code",
   "execution_count": 117,
   "metadata": {},
   "outputs": [
    {
     "name": "stdout",
     "output_type": "stream",
     "text": [
      "95% confidence interval for the difference between medians [0. 1.]\n"
     ]
    }
   ],
   "source": [
    "delta_median_scores = list(map(lambda x: x[1] - x[0], zip(age_0_median_scores, age_1_median_scores)))\n",
    "print(\"95% confidence interval for the difference between medians\",  stat_intervals(delta_median_scores, 0.05))"
   ]
  },
  {
   "cell_type": "markdown",
   "metadata": {},
   "source": [
    "#### Проверим гипотезу о равенстве распределений с помощью одного из подходящих непараметрических критериев проверки равенства средних.\n",
    "Для проверки гипотезы подойдёт перестановочный критерий для независимых выборок.\n",
    "\n",
    "H0: распределения выборок полностью равны\n",
    "\n",
    "H1: распределения выборок отличаются на величину сдвига"
   ]
  },
  {
   "cell_type": "code",
   "execution_count": 85,
   "metadata": {},
   "outputs": [
    {
     "name": "stdout",
     "output_type": "stream",
     "text": [
      "p-value: 0.014000\n"
     ]
    }
   ],
   "source": [
    "print(\"p-value: %f\" % permutation_test(age_0, age_1, max_permutations = 1000))"
   ]
  },
  {
   "cell_type": "markdown",
   "metadata": {},
   "source": [
    "P-value получается довольно маленьким и нулевая гипотеза отвергается на уровне значимости 0.05.\n",
    "\n",
    "Результат является практически значимым, потому что разница в распределениях видна невооружённым взглядом и эти данные могут учитываться при выдаче кредита."
   ]
  },
  {
   "cell_type": "code",
   "execution_count": null,
   "metadata": {},
   "outputs": [],
   "source": []
  }
 ],
 "metadata": {
  "kernelspec": {
   "display_name": "Python 3",
   "language": "python",
   "name": "python3"
  },
  "language_info": {
   "codemirror_mode": {
    "name": "ipython",
    "version": 3
   },
   "file_extension": ".py",
   "mimetype": "text/x-python",
   "name": "python",
   "nbconvert_exporter": "python",
   "pygments_lexer": "ipython3",
   "version": "3.7.3"
  }
 },
 "nbformat": 4,
 "nbformat_minor": 2
}
