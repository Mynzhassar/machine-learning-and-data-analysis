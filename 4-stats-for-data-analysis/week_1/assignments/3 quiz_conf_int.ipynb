{
 "cells": [
  {
   "cell_type": "code",
   "execution_count": 68,
   "metadata": {},
   "outputs": [],
   "source": [
    "import scipy.stats as sts"
   ]
  },
  {
   "cell_type": "code",
   "execution_count": 69,
   "metadata": {},
   "outputs": [
    {
     "name": "stdout",
     "output_type": "stream",
     "text": [
      "Constant value of 3 sigmas' rule: 2.9677\n"
     ]
    }
   ],
   "source": [
    "sigma = sts.norm.ppf(1-0.003/2)\n",
    "print(f\"Constant value of 3 sigmas' rule: {sigma:.4f}\")"
   ]
  },
  {
   "cell_type": "code",
   "execution_count": 70,
   "metadata": {},
   "outputs": [],
   "source": [
    "aspirin_general = 11037\n",
    "aspirin_infarct = 104\n",
    "\n",
    "placebo_general = 11034\n",
    "placebo_infarct = 189"
   ]
  },
  {
   "cell_type": "code",
   "execution_count": 71,
   "metadata": {},
   "outputs": [
    {
     "name": "stdout",
     "output_type": "stream",
     "text": [
      "Probability of infarct reduction, caused by aspirin: 0.0077\n"
     ]
    }
   ],
   "source": [
    "diff = placebo_infarct/placebo_general - aspirin_infarct/aspirin_general\n",
    "print(f\"Probability of infarct reduction, caused by aspirin: {diff:.4f}\")"
   ]
  },
  {
   "cell_type": "code",
   "execution_count": 72,
   "metadata": {},
   "outputs": [],
   "source": [
    "import numpy as np"
   ]
  },
  {
   "cell_type": "code",
   "execution_count": 73,
   "metadata": {},
   "outputs": [],
   "source": [
    "aspirin_sample = np.zeros(aspirin_general)\n",
    "aspirin_sample[:aspirin_infarct] = 1\n",
    "\n",
    "placebo_sample = np.zeros(placebo_general)\n",
    "placebo_sample[:placebo_infarct] = 1"
   ]
  },
  {
   "cell_type": "code",
   "execution_count": 74,
   "metadata": {},
   "outputs": [],
   "source": [
    "def proportions_confint_diff_ind(sample1, sample2, alpha = 0.05):    \n",
    "    z = sts.norm.ppf(1 - alpha / 2.)   \n",
    "    p1 = float(sum(sample1)) / len(sample1)\n",
    "    p2 = float(sum(sample2)) / len(sample2)\n",
    "    \n",
    "    left_boundary = (p1 - p2) - z * np.sqrt(p1 * (1 - p1)/ len(sample1) + p2 * (1 - p2)/ len(sample2))\n",
    "    right_boundary = (p1 - p2) + z * np.sqrt(p1 * (1 - p1)/ len(sample1) + p2 * (1 - p2)/ len(sample2))\n",
    "    \n",
    "    return (left_boundary, right_boundary)"
   ]
  },
  {
   "cell_type": "code",
   "execution_count": 75,
   "metadata": {},
   "outputs": [
    {
     "name": "stdout",
     "output_type": "stream",
     "text": [
      "95% confidence interval for proportions: (0.0047, 0.0107)\n"
     ]
    }
   ],
   "source": [
    "prop_conf_int = proportions_confint_diff_ind(placebo_sample, aspirin_sample)\n",
    "print(f\"95% confidence interval for proportions: ({prop_conf_int[0]:.4f}, {prop_conf_int[1]:.4f})\")"
   ]
  },
  {
   "cell_type": "code",
   "execution_count": 76,
   "metadata": {},
   "outputs": [],
   "source": [
    "def odds(n_target, n_sample):\n",
    "    p = n_target/n_sample\n",
    "    return p/(1-p)"
   ]
  },
  {
   "cell_type": "code",
   "execution_count": 77,
   "metadata": {},
   "outputs": [
    {
     "name": "stdout",
     "output_type": "stream",
     "text": [
      "Odds ratio: 1.8321\n"
     ]
    }
   ],
   "source": [
    "aspirin_odds = odds(aspirin_infarct, aspirin_general)\n",
    "placebo_odds = odds(placebo_infarct, placebo_general)\n",
    "\n",
    "print(f'Odds ratio: {placebo_odds/aspirin_odds:.4f}')"
   ]
  },
  {
   "cell_type": "code",
   "execution_count": 78,
   "metadata": {},
   "outputs": [],
   "source": [
    "def get_bootstrap_samples(data, n_samples):\n",
    "    indices = np.random.randint(0, len(data), (n_samples, len(data)))\n",
    "    samples = data[indices]\n",
    "    return samples"
   ]
  },
  {
   "cell_type": "code",
   "execution_count": 79,
   "metadata": {},
   "outputs": [],
   "source": [
    "def stat_intervals(stat, alpha):\n",
    "    boundaries = np.percentile(stat, [100 * alpha / 2., 100 * (1 - alpha / 2.)])\n",
    "    return boundaries"
   ]
  },
  {
   "cell_type": "code",
   "execution_count": 80,
   "metadata": {},
   "outputs": [],
   "source": [
    "np.random.seed(0)\n",
    "N = 1000\n",
    "\n",
    "aspirin_bootstrap = get_bootstrap_samples(aspirin_sample, N)\n",
    "placebo_bootstrap = get_bootstrap_samples(placebo_sample, N)"
   ]
  },
  {
   "cell_type": "code",
   "execution_count": 81,
   "metadata": {},
   "outputs": [],
   "source": [
    "aspirin_stat = (aspirin_bootstrap.mean(axis=1))/(1 - aspirin_bootstrap.mean(axis=1))\n",
    "placebo_stat = (placebo_bootstrap.mean(axis=1))/(1 - placebo_bootstrap.mean(axis=1))"
   ]
  },
  {
   "cell_type": "code",
   "execution_count": 83,
   "metadata": {},
   "outputs": [
    {
     "name": "stdout",
     "output_type": "stream",
     "text": [
      "95% confidence interval for bootstrap sample: (1.4442, 2.3432)\n"
     ]
    }
   ],
   "source": [
    "interval = stat_intervals(placebo_stat/aspirin_stat, alpha=0.05)\n",
    "print(f\"95% confidence interval for bootstrap sample: ({interval[0]:.4f}, {interval[1]:.4f})\")"
   ]
  },
  {
   "cell_type": "code",
   "execution_count": null,
   "metadata": {},
   "outputs": [],
   "source": []
  }
 ],
 "metadata": {
  "kernelspec": {
   "display_name": "Python 3",
   "language": "python",
   "name": "python3"
  },
  "language_info": {
   "codemirror_mode": {
    "name": "ipython",
    "version": 3
   },
   "file_extension": ".py",
   "mimetype": "text/x-python",
   "name": "python",
   "nbconvert_exporter": "python",
   "pygments_lexer": "ipython3",
   "version": "3.7.3"
  }
 },
 "nbformat": 4,
 "nbformat_minor": 2
}
